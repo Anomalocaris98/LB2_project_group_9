{
 "cells": [
  {
   "cell_type": "code",
   "execution_count": null,
   "metadata": {},
   "outputs": [],
   "source": [
    "#Per trovare la sequenza del signal peptide da analizzare per l'ultimo step di data analysis (sequence logos of SP cleavage site). Extract the cleavage ...\n",
    "#i=15 seq[i-13:i+2] ovvero mi prende indice 15 della "
   ]
  },
  {
   "cell_type": "code",
   "execution_count": 1,
   "metadata": {},
   "outputs": [],
   "source": [
    "import pandas as pd "
   ]
  },
  {
   "cell_type": "code",
   "execution_count": null,
   "id": "64101e36",
   "metadata": {},
   "outputs": [],
   "source": [
    "training_set=pd.read_csv(\"training_file_all_seq.tsv\",sep=\"\\t\")\n",
    "benchmark_set=pd.read_csv(\"benchmark_arricchito.tsv\", sep=\"\\t\")"
   ]
  },
  {
   "cell_type": "code",
   "execution_count": 6,
   "id": "be390287",
   "metadata": {},
   "outputs": [
    {
     "name": "stdout",
     "output_type": "stream",
     "text": [
      "     Accession                                           Organism  \\\n",
      "0       B0XT72  Aspergillus fumigatus (strain CBS 144.89 / FGS...   \n",
      "1       Q96AP7                                       Homo sapiens   \n",
      "2       Q6RG02                                Penaeus merguiensis   \n",
      "3       O54861                                  Rattus norvegicus   \n",
      "4       P34951                                    Hordeum vulgare   \n",
      "...        ...                                                ...   \n",
      "8019    P52792                                       Mus musculus   \n",
      "8020    Q8N4Q1                                       Homo sapiens   \n",
      "8021    P53264  Saccharomyces cerevisiae (strain ATCC 204508 /...   \n",
      "8022    F4K1B4                               Arabidopsis thaliana   \n",
      "8023    Q7RX40  Neurospora crassa (strain ATCC 24698 / 74-OR23...   \n",
      "\n",
      "            Kingdom Sequence length SP cleavage transmembrane_term  \\\n",
      "0             Fungi             452          19               Null   \n",
      "1           Metazoa             390          29               Null   \n",
      "2           Metazoa            2586          18               Null   \n",
      "3           Metazoa             825          31               Null   \n",
      "4     Viridiplantae             143          24               Null   \n",
      "...             ...             ...         ...                ...   \n",
      "8019        Metazoa             465       False              False   \n",
      "8020        Metazoa             142       False              False   \n",
      "8021          Fungi             445       False              False   \n",
      "8022  Viridiplantae             335       False              False   \n",
      "8023          Fungi             158       False              False   \n",
      "\n",
      "                                               Sequence subset_number  \n",
      "0     MKASAVTAALAVGASTVLAAPSIKARDDVTPITVKGNAFFKGDERF...             1  \n",
      "1     MISLPGPLVTNLLRFLFLGLSALAPPSRAQLQLHLPANRLQAVEGG...             1  \n",
      "2     MTTSTLLFVLAFVAGGLAAPWGADVPRCSTECPVTGSPKLAYQPDK...             1  \n",
      "3     MERPRGAADGLLRWPLGLLLLLQLLPPAAVGQDRLDAPPPPAPPLL...             1  \n",
      "4     MASCSQHLLSAVAIFSVLAGVATATSIYTCYEGMGLPVNPLQGCRF...             1  \n",
      "...                                                 ...           ...  \n",
      "8019  MLDDRARMEATKKEKVEQILAEFQLQEEDLKKVMSRMQKEMDRGLK...             5  \n",
      "8020  MSYCRQEGKDRIIFVTKEDHETPSSAELVADDPNDPYEEHGLILPN...             5  \n",
      "8021  MFKSTLNSIIRRPLKGFQLLRGADSSNTRPQSPRASARDVTEKQIL...             5  \n",
      "8022  MSDSVKTTVDPLLKDLDGKKESFRRNVVSMAAELKQVRGRLVSQEQ...             5  \n",
      "8023  MSKAAKGGAGGVEQVVKLIVGAGQASPSPPVGPALGSKGIKSMDFC...             5  \n",
      "\n",
      "[8024 rows x 8 columns]\n"
     ]
    }
   ],
   "source": [
    "print(training_set)"
   ]
  },
  {
   "cell_type": "code",
   "execution_count": null,
   "id": "db5652f9",
   "metadata": {},
   "outputs": [],
   "source": []
  }
 ],
 "metadata": {
  "kernelspec": {
   "display_name": "base",
   "language": "python",
   "name": "python3"
  },
  "language_info": {
   "codemirror_mode": {
    "name": "ipython",
    "version": 3
   },
   "file_extension": ".py",
   "mimetype": "text/x-python",
   "name": "python",
   "nbconvert_exporter": "python",
   "pygments_lexer": "ipython3",
   "version": "3.12.2"
  }
 },
 "nbformat": 4,
 "nbformat_minor": 5
}
