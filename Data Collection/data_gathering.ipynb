{
 "cells": [
  {
   "cell_type": "code",
   "execution_count": 1,
   "id": "74104c04",
   "metadata": {},
   "outputs": [],
   "source": [
    "import requests\n",
    "from requests.adapters import HTTPAdapter, Retry\n",
    "import json\n",
    "import re"
   ]
  },
  {
   "cell_type": "code",
   "execution_count": 2,
   "id": "dec553c2",
   "metadata": {},
   "outputs": [],
   "source": [
    "retries = Retry(total=5, backoff_factor=0.25, status_forcelist=[500, 502, 503, 504])\n",
    "session = requests.Session()\n",
    "session.mount(\"https://\", HTTPAdapter(max_retries=retries))"
   ]
  },
  {
   "cell_type": "code",
   "execution_count": 3,
   "id": "fba9e593",
   "metadata": {},
   "outputs": [],
   "source": [
    "def get_next_link(headers):\n",
    "    if \"Link\" in headers:\n",
    "        re_next_link = re.compile(r'<(.+)>; rel=\\\"next\\\"')\n",
    "        match = re_next_link.match(headers[\"Link\"])\n",
    "        if match:\n",
    "            return match.group(1)\n",
    "\n",
    "def get_batch(batch_url):\n",
    "    while batch_url:\n",
    "        response = session.get(batch_url)\n",
    "        response.raise_for_status()\n",
    "        total = response.headers[\"x-total-results\"]\n",
    "        yield response, total\n",
    "        batch_url = get_next_link(response.headers)\n"
   ]
  },
  {
   "cell_type": "code",
   "execution_count": 4,
   "id": "9e877c6e",
   "metadata": {},
   "outputs": [],
   "source": [
    "batch_size = 500\n",
    "\n",
    "def filter_entry_positive(entry):\n",
    "  for feature in entry[\"features\"]:\n",
    "    if feature[\"type\"]== \"Signal\":\n",
    "      if feature[\"description\"] == \"\" :\n",
    "        endVal = int(feature[\"location\"][\"end\"][\"value\"])\n",
    "        if endVal > 13 :\n",
    "          return True\n",
    "  return False\n",
    "\n",
    "def extract_fields_positive(entry):\n",
    "  e = None\n",
    "  for f in entry[\"features\"]:\n",
    "    if f[\"type\"] == \"Signal\" and f[\"description\"] == \"\":\n",
    "      e = f[\"location\"][\"end\"][\"value\"]\n",
    "      break\n",
    "  \n",
    "  return (\n",
    "      entry[\"primaryAccession\"],\n",
    "      entry[\"organism\"][\"scientificName\"],\n",
    "      entry[\"organism\"][\"lineage\"][1],\n",
    "      entry[\"sequence\"][\"length\"],\n",
    "      e,\n",
    "      \"Null\"\n",
    "  )"
   ]
  },
  {
   "cell_type": "code",
   "execution_count": 9,
   "id": "270cb489",
   "metadata": {},
   "outputs": [],
   "source": [
    "url_positive = \"https://rest.uniprot.org/uniprotkb/search?format=json&query=%28%28taxonomy_id%3A2759%29+NOT+%28length%3A%5B1+TO+40%5D%29+NOT+%28fragment%3Atrue%29+AND+%28reviewed%3Atrue%29+AND+%28ft_signal_exp%3A*%29%29&size=500\"\n",
    "url_negative= \"https://rest.uniprot.org/uniprotkb/search?format=json&query=%28%28fragment%3Afalse%29+AND+%28length%3A%5B40+TO+*%5D%29+AND+%28taxonomy_id%3A2759%29+NOT+%28ft_signal%3A*%29+AND+%28%28cc_scl_term_exp%3ASL-0091%29+OR+%28cc_scl_term_exp%3ASL-0191%29+OR+%28cc_scl_term_exp%3ASL-0173%29+OR+%28cc_scl_term_exp%3ASL-0209%29+OR+%28cc_scl_term_exp%3ASL-0204%29+OR+%28cc_scl_term_exp%3ASL-0039%29%29+AND+%28reviewed%3Atrue%29+AND+%28existence%3A1%29%29&size=500\"\n",
    "\n",
    "col_unificate = [\"Accession\", \"Organism\", \"Kingdom\", \"Sequence length\", \"SP cleavage\", \"transmembrane_term\"]\n"
   ]
  },
  {
   "cell_type": "code",
   "execution_count": 10,
   "id": "34db4085",
   "metadata": {},
   "outputs": [],
   "source": [
    "def filter_entry_negative(entry):\n",
    "  return True\n",
    "\n",
    "def extract_fields_negative(entry):\n",
    "   transmembrane_check = \"False\"\n",
    "   for char in entry[\"features\"]:\n",
    "     if char[\"type\"] == \"Transmembrane\":\n",
    "       if char['description'] == \"Helical\":\n",
    "              if char[\"location\"][\"start\"][\"value\"] < 90:\n",
    "                transmembrane_check = \"True\"\n",
    "                break\n",
    "\n",
    "   return (\n",
    "       entry[\"primaryAccession\"],\n",
    "       entry[\"organism\"][\"scientificName\"],\n",
    "       entry[\"organism\"][\"lineage\"][1],\n",
    "       entry[\"sequence\"][\"length\"],\n",
    "       \"False\",\n",
    "       transmembrane_check\n",
    "   )"
   ]
  },
  {
   "cell_type": "code",
   "execution_count": 11,
   "id": "0429dd85",
   "metadata": {},
   "outputs": [],
   "source": [
    "def get_dataset(search_url, filter_function, extract_function,columns, output_file_name, output_fasta_file_name):\n",
    "    n_total, n_filtered = 0, 0\n",
    "    with open(output_file_name, 'w') as ofs:\n",
    "      print(*columns,sep=\"\\t\", file=ofs)\n",
    "      with open(output_fasta_file_name, 'w') as ofs_fasta:\n",
    "        for batch, total in get_batch(search_url):\n",
    "          batch_json = json.loads(batch.text)\n",
    "          for entry in batch_json[\"results\"]:\n",
    "            n_total += 1\n",
    "            if filter_function(entry):\n",
    "              n_filtered += 1\n",
    "              fields = extract_function(entry)\n",
    "              print(*fields, sep=\"\\t\", file=ofs)\n",
    "              print(\">\", entry[\"primaryAccession\"], sep=\"\", file=ofs_fasta)\n",
    "              print(entry[\"sequence\"][\"value\"], file=ofs_fasta)\n",
    "    print(f\"Total: {n_total}, filtered: {n_filtered}\")"
   ]
  },
  {
   "cell_type": "code",
   "execution_count": 12,
   "id": "0372f3f0",
   "metadata": {},
   "outputs": [
    {
     "name": "stdout",
     "output_type": "stream",
     "text": [
      "--- Generazione del dataset positivo ---\n",
      "Total: 2949, filtered: 2932\n",
      "--- Generazione del dataset negativo ---\n",
      "Total: 20615, filtered: 20615\n"
     ]
    }
   ],
   "source": [
    "print(\"--- Generazione del dataset positivo ---\")\n",
    "get_dataset(url_positive, filter_entry_positive, extract_fields_positive, col_unificate, \"positive_dataset.tsv\",\"positive_dataset.fasta\")\n",
    "\n",
    "print(\"--- Generazione del dataset negativo ---\")\n",
    "get_dataset(url_negative, filter_entry_negative, extract_fields_negative, col_unificate, \"negative_dataset.tsv\",\"negative_dataset.fasta\")\n"
   ]
  },
  {
   "cell_type": "code",
   "execution_count": 13,
   "id": "a530f341",
   "metadata": {},
   "outputs": [
    {
     "name": "stdout",
     "output_type": "stream",
     "text": [
      "2932 righe nel dataset positivo.\n",
      "20615 righe nel dataset negativo.\n",
      "\n",
      "--- Esempio di dati POSITIVI ---\n",
      "  Accession      Organism  Kingdom  Sequence length  SP cleavage  \\\n",
      "0    O00300  Homo sapiens  Metazoa              401           21   \n",
      "1    O00478  Homo sapiens  Metazoa              584           29   \n",
      "2    O00748  Homo sapiens  Metazoa              559           26   \n",
      "3    O14763  Homo sapiens  Metazoa              440           55   \n",
      "4    O43155  Homo sapiens  Metazoa              660           35   \n",
      "\n",
      "  transmembrane_term  \n",
      "0               Null  \n",
      "1               Null  \n",
      "2               Null  \n",
      "3               Null  \n",
      "4               Null  \n",
      "\n",
      "--- Esempio di dati NEGATIVI ---\n",
      "  Accession      Organism  Kingdom  Sequence length  SP cleavage  \\\n",
      "0    Q6YN16  Homo sapiens  Metazoa              418        False   \n",
      "1    Q9UHK6  Homo sapiens  Metazoa              382        False   \n",
      "2    A3KMH1  Homo sapiens  Metazoa             1905        False   \n",
      "3    O75874  Homo sapiens  Metazoa              414        False   \n",
      "4    Q9NTK1  Homo sapiens  Metazoa              212        False   \n",
      "\n",
      "   transmembrane_term  \n",
      "0               False  \n",
      "1               False  \n",
      "2               False  \n",
      "3               False  \n",
      "4               False  \n"
     ]
    }
   ],
   "source": [
    "import pandas as pd\n",
    "\n",
    "negative_set = pd.read_csv(\"negative_dataset.tsv\", sep=\"\\t\")\n",
    "positive_set = pd.read_csv(\"positive_dataset.tsv\", sep=\"\\t\")\n",
    "\n",
    "print(f\"{len(positive_set)} righe nel dataset positivo.\")\n",
    "print(f\"{len(negative_set)} righe nel dataset negativo.\")\n",
    "\n",
    "print(\"\\n--- Esempio di dati POSITIVI ---\")\n",
    "print(positive_set.head())\n",
    "\n",
    "print(\"\\n--- Esempio di dati NEGATIVI ---\")\n",
    "print(negative_set.head())"
   ]
  }
 ],
 "metadata": {
  "kernelspec": {
   "display_name": "base",
   "language": "python",
   "name": "python3"
  },
  "language_info": {
   "codemirror_mode": {
    "name": "ipython",
    "version": 3
   },
   "file_extension": ".py",
   "mimetype": "text/x-python",
   "name": "python",
   "nbconvert_exporter": "python",
   "pygments_lexer": "ipython3",
   "version": "3.12.2"
  }
 },
 "nbformat": 4,
 "nbformat_minor": 5
}
